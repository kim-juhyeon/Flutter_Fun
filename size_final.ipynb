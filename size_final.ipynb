{
  "nbformat": 4,
  "nbformat_minor": 0,
  "metadata": {
    "colab": {
      "provenance": [],
      "authorship_tag": "ABX9TyMNzkzH6iklVbe7qXMXekKv",
      "include_colab_link": true
    },
    "kernelspec": {
      "name": "python3",
      "display_name": "Python 3"
    },
    "language_info": {
      "name": "python"
    }
  },
  "cells": [
    {
      "cell_type": "markdown",
      "metadata": {
        "id": "view-in-github",
        "colab_type": "text"
      },
      "source": [
        "<a href=\"https://colab.research.google.com/github/kim-juhyeon/Flutter_Fun/blob/master/size_final.ipynb\" target=\"_parent\"><img src=\"https://colab.research.google.com/assets/colab-badge.svg\" alt=\"Open In Colab\"/></a>"
      ]
    },
    {
      "cell_type": "code",
      "source": [
        "from google.colab import drive\n",
        "drive.mount('/content/drive')"
      ],
      "metadata": {
        "id": "Q54areSBgZ1c",
        "colab": {
          "base_uri": "https://localhost:8080/"
        },
        "outputId": "ee05ff21-9ae8-4f0b-c55a-7dbf802dd13e"
      },
      "execution_count": null,
      "outputs": [
        {
          "output_type": "stream",
          "name": "stdout",
          "text": [
            "Mounted at /content/drive\n"
          ]
        }
      ]
    },
    {
      "cell_type": "code",
      "source": [
        "file_path = '/content/drive/MyDrive/sizeproject/8.train.xlsx'"
      ],
      "metadata": {
        "id": "hNnArHjsg8PH"
      },
      "execution_count": null,
      "outputs": []
    },
    {
      "cell_type": "code",
      "source": [
        "import numpy as np\n",
        "import pandas as pd\n",
        "from sklearn.model_selection import train_test_split\n",
        "from tensorflow.keras.models import Sequential\n",
        "from sklearn.preprocessing import StandardScaler, LabelEncoder\n",
        "from tensorflow.keras.layers import Dense\n",
        "\n",
        "\n",
        "# 데이터 로딩 (데이터셋의 경로는 실제 경로에 맞게 수정해야 합니다.)\n",
        "file_path = '/content/drive/MyDrive/sizeproject/8.train.xlsx'\n",
        "data = pd.read_excel(file_path)\n",
        "print(data.columns.tolist())\n",
        "\n",
        "\n"
      ],
      "metadata": {
        "colab": {
          "base_uri": "https://localhost:8080/"
        },
        "id": "cDlkQRv5igeL",
        "outputId": "cf7ce503-b818-49ae-d6cf-846378316efa"
      },
      "execution_count": null,
      "outputs": [
        {
          "output_type": "stream",
          "name": "stdout",
          "text": [
            "['성별', '나이', '키', '몸무게', '몸통수직길이', '어깨사이길이', '가슴너비', '팔길이', '위팔길이', '다리가쪽길이', '허리너비', '엉덩이너비', '넙다리너비']\n"
          ]
        }
      ]
    },
    {
      "cell_type": "code",
      "source": [
        "if data.isnull().values.any():\n",
        "    print(\"Data contains NaN values. Consider removing or imputing them.\")\n",
        "    data = data.dropna()  # NaN 값 제거"
      ],
      "metadata": {
        "colab": {
          "base_uri": "https://localhost:8080/"
        },
        "id": "Wp5pIt5boKnj",
        "outputId": "854531dd-0ac6-4082-d536-079d33459409"
      },
      "execution_count": null,
      "outputs": [
        {
          "output_type": "stream",
          "name": "stdout",
          "text": [
            "Data contains NaN values. Consider removing or imputing them.\n"
          ]
        }
      ]
    },
    {
      "cell_type": "code",
      "source": [
        "\n",
        "# 성별 인코딩\n",
        "label_encoder = LabelEncoder()\n",
        "data['성별'] = label_encoder.fit_transform(data['성별'].map({'M': 1, 'F': 0}))\n",
        "\n",
        "# 특성과 레이블 분리\n",
        "X = data[['성별', '나이', '키', '몸무게']].values\n",
        "y = data[['몸통수직길이', '어깨사이길이', '가슴너비', '팔길이', '위팔길이', '다리가쪽길이', '허리너비', '엉덩이너비', '넙다리너비']]\n",
        "\n",
        "# 데이터 스케일링\n",
        "scaler = StandardScaler()\n",
        "X_scaled = scaler.fit_transform(X)\n",
        "\n",
        "# 데이터 분할\n",
        "X_train, X_test, y_train, y_test = train_test_split(X, y, test_size=0.2, random_state=42)\n",
        "\n",
        "# 모델 구축\n",
        "model = Sequential([\n",
        "    Dense(128, activation='relu', input_shape=(4,)),  # 입력 특성의 수는 4 (성별, 나이, 키, 몸무게)\n",
        "    Dense(128, activation='relu'),\n",
        "    Dense(9)  # 출력 값의 수는 9 (예측해야 할 신체 치수)\n",
        "])\n",
        "\n",
        "# 모델 컴파일\n",
        "model.compile(optimizer='adam', loss='mse')\n",
        "\n",
        "# 모델 훈련\n",
        "model.fit(X_train, y_train, epochs=100, batch_size=32, verbose=1)\n",
        "\n",
        "# 모델 평가\n",
        "loss = model.evaluate(X_test, y_test, verbose=0)\n",
        "print(f'테스트 MSE: {loss}')\n"
      ],
      "metadata": {
        "colab": {
          "base_uri": "https://localhost:8080/"
        },
        "id": "u5B-7iaBnAtE",
        "outputId": "d1ccceb3-f262-4f49-f655-c8d28363dcf3"
      },
      "execution_count": null,
      "outputs": [
        {
          "output_type": "stream",
          "name": "stdout",
          "text": [
            "Epoch 1/100\n",
            "113/113 [==============================] - 1s 2ms/step - loss: 14428.4492\n",
            "Epoch 2/100\n",
            "113/113 [==============================] - 0s 2ms/step - loss: 404.5259\n",
            "Epoch 3/100\n",
            "113/113 [==============================] - 0s 2ms/step - loss: 400.6323\n",
            "Epoch 4/100\n",
            "113/113 [==============================] - 0s 2ms/step - loss: 398.4110\n",
            "Epoch 5/100\n",
            "113/113 [==============================] - 0s 2ms/step - loss: 393.4543\n",
            "Epoch 6/100\n",
            "113/113 [==============================] - 0s 2ms/step - loss: 386.9583\n",
            "Epoch 7/100\n",
            "113/113 [==============================] - 0s 2ms/step - loss: 385.8028\n",
            "Epoch 8/100\n",
            "113/113 [==============================] - 0s 2ms/step - loss: 375.5651\n",
            "Epoch 9/100\n",
            "113/113 [==============================] - 0s 2ms/step - loss: 372.4337\n",
            "Epoch 10/100\n",
            "113/113 [==============================] - 0s 2ms/step - loss: 361.0173\n",
            "Epoch 11/100\n",
            "113/113 [==============================] - 0s 2ms/step - loss: 357.9129\n",
            "Epoch 12/100\n",
            "113/113 [==============================] - 0s 2ms/step - loss: 351.5970\n",
            "Epoch 13/100\n",
            "113/113 [==============================] - 0s 2ms/step - loss: 336.4266\n",
            "Epoch 14/100\n",
            "113/113 [==============================] - 0s 2ms/step - loss: 332.1638\n",
            "Epoch 15/100\n",
            "113/113 [==============================] - 0s 2ms/step - loss: 319.2222\n",
            "Epoch 16/100\n",
            "113/113 [==============================] - 0s 2ms/step - loss: 316.3636\n",
            "Epoch 17/100\n",
            "113/113 [==============================] - 0s 2ms/step - loss: 305.5208\n",
            "Epoch 18/100\n",
            "113/113 [==============================] - 0s 2ms/step - loss: 304.9731\n",
            "Epoch 19/100\n",
            "113/113 [==============================] - 0s 2ms/step - loss: 298.8416\n",
            "Epoch 20/100\n",
            "113/113 [==============================] - 0s 3ms/step - loss: 291.5434\n",
            "Epoch 21/100\n",
            "113/113 [==============================] - 0s 2ms/step - loss: 294.5370\n",
            "Epoch 22/100\n",
            "113/113 [==============================] - 0s 3ms/step - loss: 291.2576\n",
            "Epoch 23/100\n",
            "113/113 [==============================] - 0s 2ms/step - loss: 294.0928\n",
            "Epoch 24/100\n",
            "113/113 [==============================] - 0s 2ms/step - loss: 284.5455\n",
            "Epoch 25/100\n",
            "113/113 [==============================] - 0s 2ms/step - loss: 292.7655\n",
            "Epoch 26/100\n",
            "113/113 [==============================] - 0s 2ms/step - loss: 299.6229\n",
            "Epoch 27/100\n",
            "113/113 [==============================] - 0s 2ms/step - loss: 292.0963\n",
            "Epoch 28/100\n",
            "113/113 [==============================] - 0s 2ms/step - loss: 283.7149\n",
            "Epoch 29/100\n",
            "113/113 [==============================] - 0s 2ms/step - loss: 288.3393\n",
            "Epoch 30/100\n",
            "113/113 [==============================] - 0s 4ms/step - loss: 291.1754\n",
            "Epoch 31/100\n",
            "113/113 [==============================] - 0s 4ms/step - loss: 283.9771\n",
            "Epoch 32/100\n",
            "113/113 [==============================] - 0s 4ms/step - loss: 285.3844\n",
            "Epoch 33/100\n",
            "113/113 [==============================] - 0s 4ms/step - loss: 303.2420\n",
            "Epoch 34/100\n",
            "113/113 [==============================] - 0s 4ms/step - loss: 283.1514\n",
            "Epoch 35/100\n",
            "113/113 [==============================] - 0s 4ms/step - loss: 286.8866\n",
            "Epoch 36/100\n",
            "113/113 [==============================] - 0s 3ms/step - loss: 294.6893\n",
            "Epoch 37/100\n",
            "113/113 [==============================] - 0s 4ms/step - loss: 286.5517\n",
            "Epoch 38/100\n",
            "113/113 [==============================] - 0s 3ms/step - loss: 284.0717\n",
            "Epoch 39/100\n",
            "113/113 [==============================] - 0s 3ms/step - loss: 282.9919\n",
            "Epoch 40/100\n",
            "113/113 [==============================] - 0s 2ms/step - loss: 288.2928\n",
            "Epoch 41/100\n",
            "113/113 [==============================] - 0s 2ms/step - loss: 284.8621\n",
            "Epoch 42/100\n",
            "113/113 [==============================] - 0s 2ms/step - loss: 287.1845\n",
            "Epoch 43/100\n",
            "113/113 [==============================] - 0s 2ms/step - loss: 281.3571\n",
            "Epoch 44/100\n",
            "113/113 [==============================] - 0s 2ms/step - loss: 277.1269\n",
            "Epoch 45/100\n",
            "113/113 [==============================] - 0s 2ms/step - loss: 276.8637\n",
            "Epoch 46/100\n",
            "113/113 [==============================] - 0s 2ms/step - loss: 282.6342\n",
            "Epoch 47/100\n",
            "113/113 [==============================] - 0s 2ms/step - loss: 277.3345\n",
            "Epoch 48/100\n",
            "113/113 [==============================] - 0s 2ms/step - loss: 274.5008\n",
            "Epoch 49/100\n",
            "113/113 [==============================] - 0s 2ms/step - loss: 270.9144\n",
            "Epoch 50/100\n",
            "113/113 [==============================] - 0s 2ms/step - loss: 279.6503\n",
            "Epoch 51/100\n",
            "113/113 [==============================] - 0s 2ms/step - loss: 272.2265\n",
            "Epoch 52/100\n",
            "113/113 [==============================] - 0s 2ms/step - loss: 273.6778\n",
            "Epoch 53/100\n",
            "113/113 [==============================] - 0s 2ms/step - loss: 273.1321\n",
            "Epoch 54/100\n",
            "113/113 [==============================] - 0s 2ms/step - loss: 276.9163\n",
            "Epoch 55/100\n",
            "113/113 [==============================] - 0s 2ms/step - loss: 267.8566\n",
            "Epoch 56/100\n",
            "113/113 [==============================] - 0s 2ms/step - loss: 267.9135\n",
            "Epoch 57/100\n",
            "113/113 [==============================] - 0s 2ms/step - loss: 273.0862\n",
            "Epoch 58/100\n",
            "113/113 [==============================] - 0s 2ms/step - loss: 279.1826\n",
            "Epoch 59/100\n",
            "113/113 [==============================] - 0s 2ms/step - loss: 264.7695\n",
            "Epoch 60/100\n",
            "113/113 [==============================] - 0s 2ms/step - loss: 260.8104\n",
            "Epoch 61/100\n",
            "113/113 [==============================] - 0s 2ms/step - loss: 262.7012\n",
            "Epoch 62/100\n",
            "113/113 [==============================] - 0s 2ms/step - loss: 264.5352\n",
            "Epoch 63/100\n",
            "113/113 [==============================] - 0s 2ms/step - loss: 262.1295\n",
            "Epoch 64/100\n",
            "113/113 [==============================] - 0s 2ms/step - loss: 259.3697\n",
            "Epoch 65/100\n",
            "113/113 [==============================] - 0s 2ms/step - loss: 261.1664\n",
            "Epoch 66/100\n",
            "113/113 [==============================] - 0s 2ms/step - loss: 261.3997\n",
            "Epoch 67/100\n",
            "113/113 [==============================] - 0s 2ms/step - loss: 257.8983\n",
            "Epoch 68/100\n",
            "113/113 [==============================] - 0s 2ms/step - loss: 256.3507\n",
            "Epoch 69/100\n",
            "113/113 [==============================] - 0s 2ms/step - loss: 251.1200\n",
            "Epoch 70/100\n",
            "113/113 [==============================] - 0s 2ms/step - loss: 253.8396\n",
            "Epoch 71/100\n",
            "113/113 [==============================] - 0s 2ms/step - loss: 250.5427\n",
            "Epoch 72/100\n",
            "113/113 [==============================] - 0s 2ms/step - loss: 255.4040\n",
            "Epoch 73/100\n",
            "113/113 [==============================] - 0s 2ms/step - loss: 260.0485\n",
            "Epoch 74/100\n",
            "113/113 [==============================] - 0s 2ms/step - loss: 252.2207\n",
            "Epoch 75/100\n",
            "113/113 [==============================] - 0s 2ms/step - loss: 257.4731\n",
            "Epoch 76/100\n",
            "113/113 [==============================] - 0s 2ms/step - loss: 264.8572\n",
            "Epoch 77/100\n",
            "113/113 [==============================] - 0s 2ms/step - loss: 251.1081\n",
            "Epoch 78/100\n",
            "113/113 [==============================] - 0s 2ms/step - loss: 257.4702\n",
            "Epoch 79/100\n",
            "113/113 [==============================] - 0s 2ms/step - loss: 252.6574\n",
            "Epoch 80/100\n",
            "113/113 [==============================] - 0s 2ms/step - loss: 254.5281\n",
            "Epoch 81/100\n",
            "113/113 [==============================] - 0s 2ms/step - loss: 254.4552\n",
            "Epoch 82/100\n",
            "113/113 [==============================] - 0s 3ms/step - loss: 258.5365\n",
            "Epoch 83/100\n",
            "113/113 [==============================] - 0s 4ms/step - loss: 258.1573\n",
            "Epoch 84/100\n",
            "113/113 [==============================] - 0s 3ms/step - loss: 252.8343\n",
            "Epoch 85/100\n",
            "113/113 [==============================] - 0s 4ms/step - loss: 251.5179\n",
            "Epoch 86/100\n",
            "113/113 [==============================] - 0s 4ms/step - loss: 258.6898\n",
            "Epoch 87/100\n",
            "113/113 [==============================] - 0s 3ms/step - loss: 251.1477\n",
            "Epoch 88/100\n",
            "113/113 [==============================] - 0s 3ms/step - loss: 253.7006\n",
            "Epoch 89/100\n",
            "113/113 [==============================] - 0s 4ms/step - loss: 256.1276\n",
            "Epoch 90/100\n",
            "113/113 [==============================] - 0s 4ms/step - loss: 251.1930\n",
            "Epoch 91/100\n",
            "113/113 [==============================] - 0s 3ms/step - loss: 249.5702\n",
            "Epoch 92/100\n",
            "113/113 [==============================] - 0s 3ms/step - loss: 248.6475\n",
            "Epoch 93/100\n",
            "113/113 [==============================] - 0s 2ms/step - loss: 251.3084\n",
            "Epoch 94/100\n",
            "113/113 [==============================] - 0s 2ms/step - loss: 250.0440\n",
            "Epoch 95/100\n",
            "113/113 [==============================] - 0s 2ms/step - loss: 252.2041\n",
            "Epoch 96/100\n",
            "113/113 [==============================] - 0s 2ms/step - loss: 252.8456\n",
            "Epoch 97/100\n",
            "113/113 [==============================] - 0s 2ms/step - loss: 252.1072\n",
            "Epoch 98/100\n",
            "113/113 [==============================] - 0s 2ms/step - loss: 253.6954\n",
            "Epoch 99/100\n",
            "113/113 [==============================] - 0s 2ms/step - loss: 248.0481\n",
            "Epoch 100/100\n",
            "113/113 [==============================] - 0s 2ms/step - loss: 256.1761\n",
            "테스트 MSE: 253.48739624023438\n"
          ]
        }
      ]
    },
    {
      "cell_type": "markdown",
      "source": [],
      "metadata": {
        "id": "21qYCcExj8xB"
      }
    },
    {
      "cell_type": "code",
      "source": [
        "# 사용자 입력 받기 및 예측\n",
        "gender = input(\"성별을 입력해주세요 (남자=1, 여자=0): \")\n",
        "age = input(\"나이를 입력해주세요: \")\n",
        "height = input(\"키를 입력해주세요 (cm): \")\n",
        "weight = input(\"몸무게를 입력해주세요 (kg): \")\n",
        "user_data = np.array([[gender, age, height, weight]])\n",
        "user_data = user_data.astype(float)\n",
        "\n",
        "# 예측\n",
        "predictions = model.predict(user_data)\n",
        "print(\"예측된 신체 치수는 다음과 같습니다:\")\n",
        "print(predictions)"
      ],
      "metadata": {
        "colab": {
          "base_uri": "https://localhost:8080/"
        },
        "id": "LakY5ZHYj9ZY",
        "outputId": "25d9533a-4dc3-4c68-9406-a116f676cba6"
      },
      "execution_count": null,
      "outputs": [
        {
          "name": "stdout",
          "output_type": "stream",
          "text": [
            "성별을 입력해주세요 (남자=1, 여자=0): 1\n",
            "나이를 입력해주세요: 32\n",
            "키를 입력해주세요 (cm): 1740\n",
            "몸무게를 입력해주세요 (kg): 80\n"
          ]
        },
        {
          "output_type": "stream",
          "name": "stderr",
          "text": [
            "WARNING:tensorflow:6 out of the last 10 calls to <function Model.make_predict_function.<locals>.predict_function at 0x7ac7caaba290> triggered tf.function retracing. Tracing is expensive and the excessive number of tracings could be due to (1) creating @tf.function repeatedly in a loop, (2) passing tensors with different shapes, (3) passing Python objects instead of tensors. For (1), please define your @tf.function outside of the loop. For (2), @tf.function has reduce_retracing=True option that can avoid unnecessary retracing. For (3), please refer to https://www.tensorflow.org/guide/function#controlling_retracing and https://www.tensorflow.org/api_docs/python/tf/function for  more details.\n"
          ]
        },
        {
          "output_type": "stream",
          "name": "stdout",
          "text": [
            "1/1 [==============================] - 0s 68ms/step\n",
            "예측된 신체 치수는 다음과 같습니다:\n",
            "[[ 698.46173  450.28604  328.3591   592.0384   336.86392 1067.404\n",
            "   309.9324   336.9657   182.96858]]\n"
          ]
        }
      ]
    }
  ]
}